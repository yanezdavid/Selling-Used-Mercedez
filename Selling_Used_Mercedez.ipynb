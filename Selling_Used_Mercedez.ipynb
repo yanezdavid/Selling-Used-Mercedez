{
  "nbformat": 4,
  "nbformat_minor": 0,
  "metadata": {
    "colab": {
      "name": "Project_3.ipynb",
      "provenance": [],
      "authorship_tag": "ABX9TyOu4X2y+/KuAbmMv6Mp1IAQ",
      "include_colab_link": true
    },
    "kernelspec": {
      "name": "python3",
      "display_name": "Python 3"
    },
    "language_info": {
      "name": "python"
    }
  },
  "cells": [
    {
      "cell_type": "markdown",
      "metadata": {
        "id": "view-in-github",
        "colab_type": "text"
      },
      "source": [
        "<a href=\"https://colab.research.google.com/github/yanezdavid/Selling-Used-Mercedez/blob/main/Selling_Used_Mercedez.ipynb\" target=\"_parent\"><img src=\"https://colab.research.google.com/assets/colab-badge.svg\" alt=\"Open In Colab\"/></a>"
      ]
    },
    {
      "cell_type": "markdown",
      "metadata": {
        "id": "nQKeptIZzO9K"
      },
      "source": [
        "# Research Question"
      ]
    },
    {
      "cell_type": "markdown",
      "metadata": {
        "id": "TCH8qm4YzWCZ"
      },
      "source": [
        "**How much should I sell my used Mercedes for?**\n",
        "\n",
        "What is a fair price to sell my Mercedes for on online marketplaces? Using specifications from previously sold Mercedes on online marketplaces, I use develop several machine learning models to predict an optimal price to sell my car for. Data was recieved from [Kaggle](https://www.kaggle.com/mysarahmadbhat/mercedes-used-car-listing.\n",
        "\n"
      ]
    },
    {
      "cell_type": "code",
      "metadata": {
        "colab": {
          "base_uri": "https://localhost:8080/",
          "height": 436
        },
        "id": "OxSyKz0RxSO6",
        "outputId": "26988867-afb9-42d0-ffc2-75b63bc193ee"
      },
      "source": [
        "from google.colab import drive #link drive\n",
        "drive.mount('/content/drive')\n",
        "\n",
        "import pandas as pd #import libraries\n",
        "import numpy as np\n",
        "\n",
        "df = pd.read_csv('/content/drive/MyDrive/Data Science/Projects/merc 2.csv') #load dataframe\n",
        "df.head() #preview data"
      ],
      "execution_count": 91,
      "outputs": [
        {
          "output_type": "stream",
          "name": "stdout",
          "text": [
            "Drive already mounted at /content/drive; to attempt to forcibly remount, call drive.mount(\"/content/drive\", force_remount=True).\n"
          ]
        },
        {
          "output_type": "execute_result",
          "data": {
            "text/html": [
              "<div>\n",
              "<style scoped>\n",
              "    .dataframe tbody tr th:only-of-type {\n",
              "        vertical-align: middle;\n",
              "    }\n",
              "\n",
              "    .dataframe tbody tr th {\n",
              "        vertical-align: top;\n",
              "    }\n",
              "\n",
              "    .dataframe thead th {\n",
              "        text-align: right;\n",
              "    }\n",
              "</style>\n",
              "<table border=\"1\" class=\"dataframe\">\n",
              "  <thead>\n",
              "    <tr style=\"text-align: right;\">\n",
              "      <th></th>\n",
              "      <th>model</th>\n",
              "      <th>year</th>\n",
              "      <th>price</th>\n",
              "      <th>transmission</th>\n",
              "      <th>mileage</th>\n",
              "      <th>fuelType</th>\n",
              "      <th>tax</th>\n",
              "      <th>mpg</th>\n",
              "      <th>engineSize</th>\n",
              "    </tr>\n",
              "  </thead>\n",
              "  <tbody>\n",
              "    <tr>\n",
              "      <th>0</th>\n",
              "      <td>SLK</td>\n",
              "      <td>2005</td>\n",
              "      <td>5200</td>\n",
              "      <td>Automatic</td>\n",
              "      <td>63000</td>\n",
              "      <td>Petrol</td>\n",
              "      <td>325</td>\n",
              "      <td>32.1</td>\n",
              "      <td>1.8</td>\n",
              "    </tr>\n",
              "    <tr>\n",
              "      <th>1</th>\n",
              "      <td>S Class</td>\n",
              "      <td>2017</td>\n",
              "      <td>34948</td>\n",
              "      <td>Automatic</td>\n",
              "      <td>27000</td>\n",
              "      <td>Hybrid</td>\n",
              "      <td>20</td>\n",
              "      <td>61.4</td>\n",
              "      <td>2.1</td>\n",
              "    </tr>\n",
              "    <tr>\n",
              "      <th>2</th>\n",
              "      <td>SL CLASS</td>\n",
              "      <td>2016</td>\n",
              "      <td>49948</td>\n",
              "      <td>Automatic</td>\n",
              "      <td>6200</td>\n",
              "      <td>Petrol</td>\n",
              "      <td>555</td>\n",
              "      <td>28.0</td>\n",
              "      <td>5.5</td>\n",
              "    </tr>\n",
              "    <tr>\n",
              "      <th>3</th>\n",
              "      <td>G Class</td>\n",
              "      <td>2016</td>\n",
              "      <td>61948</td>\n",
              "      <td>Automatic</td>\n",
              "      <td>16000</td>\n",
              "      <td>Petrol</td>\n",
              "      <td>325</td>\n",
              "      <td>30.4</td>\n",
              "      <td>4.0</td>\n",
              "    </tr>\n",
              "    <tr>\n",
              "      <th>4</th>\n",
              "      <td>G Class</td>\n",
              "      <td>2016</td>\n",
              "      <td>73948</td>\n",
              "      <td>Automatic</td>\n",
              "      <td>4000</td>\n",
              "      <td>Petrol</td>\n",
              "      <td>325</td>\n",
              "      <td>30.1</td>\n",
              "      <td>4.0</td>\n",
              "    </tr>\n",
              "    <tr>\n",
              "      <th>...</th>\n",
              "      <td>...</td>\n",
              "      <td>...</td>\n",
              "      <td>...</td>\n",
              "      <td>...</td>\n",
              "      <td>...</td>\n",
              "      <td>...</td>\n",
              "      <td>...</td>\n",
              "      <td>...</td>\n",
              "      <td>...</td>\n",
              "    </tr>\n",
              "    <tr>\n",
              "      <th>95</th>\n",
              "      <td>A Class</td>\n",
              "      <td>2019</td>\n",
              "      <td>18141</td>\n",
              "      <td>Automatic</td>\n",
              "      <td>15689</td>\n",
              "      <td>Diesel</td>\n",
              "      <td>145</td>\n",
              "      <td>65.7</td>\n",
              "      <td>1.5</td>\n",
              "    </tr>\n",
              "    <tr>\n",
              "      <th>96</th>\n",
              "      <td>GLS Class</td>\n",
              "      <td>2016</td>\n",
              "      <td>37385</td>\n",
              "      <td>Automatic</td>\n",
              "      <td>21169</td>\n",
              "      <td>Diesel</td>\n",
              "      <td>305</td>\n",
              "      <td>37.2</td>\n",
              "      <td>3.0</td>\n",
              "    </tr>\n",
              "    <tr>\n",
              "      <th>97</th>\n",
              "      <td>CLS Class</td>\n",
              "      <td>2017</td>\n",
              "      <td>26166</td>\n",
              "      <td>Automatic</td>\n",
              "      <td>9165</td>\n",
              "      <td>Diesel</td>\n",
              "      <td>150</td>\n",
              "      <td>51.4</td>\n",
              "      <td>3.0</td>\n",
              "    </tr>\n",
              "    <tr>\n",
              "      <th>98</th>\n",
              "      <td>B Class</td>\n",
              "      <td>2019</td>\n",
              "      <td>24616</td>\n",
              "      <td>Automatic</td>\n",
              "      <td>3710</td>\n",
              "      <td>Diesel</td>\n",
              "      <td>145</td>\n",
              "      <td>55.4</td>\n",
              "      <td>2.0</td>\n",
              "    </tr>\n",
              "    <tr>\n",
              "      <th>99</th>\n",
              "      <td>C Class</td>\n",
              "      <td>2019</td>\n",
              "      <td>30403</td>\n",
              "      <td>Automatic</td>\n",
              "      <td>3000</td>\n",
              "      <td>Petrol</td>\n",
              "      <td>145</td>\n",
              "      <td>46.3</td>\n",
              "      <td>1.5</td>\n",
              "    </tr>\n",
              "  </tbody>\n",
              "</table>\n",
              "<p>100 rows × 9 columns</p>\n",
              "</div>"
            ],
            "text/plain": [
              "         model  year  price transmission  ...  fuelType  tax   mpg  engineSize\n",
              "0          SLK  2005   5200    Automatic  ...    Petrol  325  32.1         1.8\n",
              "1      S Class  2017  34948    Automatic  ...    Hybrid   20  61.4         2.1\n",
              "2     SL CLASS  2016  49948    Automatic  ...    Petrol  555  28.0         5.5\n",
              "3      G Class  2016  61948    Automatic  ...    Petrol  325  30.4         4.0\n",
              "4      G Class  2016  73948    Automatic  ...    Petrol  325  30.1         4.0\n",
              "..         ...   ...    ...          ...  ...       ...  ...   ...         ...\n",
              "95     A Class  2019  18141    Automatic  ...    Diesel  145  65.7         1.5\n",
              "96   GLS Class  2016  37385    Automatic  ...    Diesel  305  37.2         3.0\n",
              "97   CLS Class  2017  26166    Automatic  ...    Diesel  150  51.4         3.0\n",
              "98     B Class  2019  24616    Automatic  ...    Diesel  145  55.4         2.0\n",
              "99     C Class  2019  30403    Automatic  ...    Petrol  145  46.3         1.5\n",
              "\n",
              "[100 rows x 9 columns]"
            ]
          },
          "metadata": {},
          "execution_count": 91
        }
      ]
    },
    {
      "cell_type": "markdown",
      "metadata": {
        "id": "5gko9z4q2DqC"
      },
      "source": [
        "# Data Dictionary"
      ]
    },
    {
      "cell_type": "markdown",
      "metadata": {
        "id": "taKJkkXi2FoL"
      },
      "source": [
        "First, some information about the data.\n",
        "* model:  Mercedez model.\n",
        "* year: registraion year.\n",
        "* price: price in Euros.\n",
        "* transmission: type of gear box.\n",
        "* mileage: distance used.\n",
        "* fuelType: engine fuel.\n",
        "* tax: road tax.\n",
        "* mpg: miles per galoon.\n",
        "* engineSize: size in litres.\n"
      ]
    },
    {
      "cell_type": "markdown",
      "metadata": {
        "id": "jZkWKOLP2Sgx"
      },
      "source": [
        "# Clean Data"
      ]
    },
    {
      "cell_type": "markdown",
      "metadata": {
        "id": "2Sww7B2-2Vl3"
      },
      "source": [
        "Before the data is ready machine learning it is necessary to check for errors, missing values, and other irregularities."
      ]
    },
    {
      "cell_type": "code",
      "metadata": {
        "colab": {
          "base_uri": "https://localhost:8080/"
        },
        "id": "LpWk7mxR1VXh",
        "outputId": "bcbab94b-9e04-4adc-a3b0-da59b99d0b69"
      },
      "source": [
        "df.info() #check for incorrect datatypes"
      ],
      "execution_count": 65,
      "outputs": [
        {
          "output_type": "stream",
          "name": "stdout",
          "text": [
            "<class 'pandas.core.frame.DataFrame'>\n",
            "RangeIndex: 13119 entries, 0 to 13118\n",
            "Data columns (total 9 columns):\n",
            " #   Column        Non-Null Count  Dtype  \n",
            "---  ------        --------------  -----  \n",
            " 0   model         13119 non-null  object \n",
            " 1   year          13119 non-null  int64  \n",
            " 2   price         13119 non-null  int64  \n",
            " 3   transmission  13119 non-null  object \n",
            " 4   mileage       13119 non-null  int64  \n",
            " 5   fuelType      13119 non-null  object \n",
            " 6   tax           13119 non-null  int64  \n",
            " 7   mpg           13119 non-null  float64\n",
            " 8   engineSize    13119 non-null  float64\n",
            "dtypes: float64(2), int64(4), object(3)\n",
            "memory usage: 922.6+ KB\n"
          ]
        }
      ]
    },
    {
      "cell_type": "code",
      "metadata": {
        "colab": {
          "base_uri": "https://localhost:8080/"
        },
        "id": "td9yfUy61grQ",
        "outputId": "acd5d522-5475-496c-9371-7548c95add04"
      },
      "source": [
        "df.shape #check the number of rows and columns in the dataframe"
      ],
      "execution_count": 66,
      "outputs": [
        {
          "output_type": "execute_result",
          "data": {
            "text/plain": [
              "(13119, 9)"
            ]
          },
          "metadata": {},
          "execution_count": 66
        }
      ]
    },
    {
      "cell_type": "code",
      "metadata": {
        "colab": {
          "base_uri": "https://localhost:8080/"
        },
        "id": "fqDoZqcjymy5",
        "outputId": "c1576128-f751-4aa5-dbf5-895c5ced13d3"
      },
      "source": [
        "df.isnull().sum() #check for missing data in all columns"
      ],
      "execution_count": 67,
      "outputs": [
        {
          "output_type": "execute_result",
          "data": {
            "text/plain": [
              "model           0\n",
              "year            0\n",
              "price           0\n",
              "transmission    0\n",
              "mileage         0\n",
              "fuelType        0\n",
              "tax             0\n",
              "mpg             0\n",
              "engineSize      0\n",
              "dtype: int64"
            ]
          },
          "metadata": {},
          "execution_count": 67
        }
      ]
    },
    {
      "cell_type": "code",
      "metadata": {
        "colab": {
          "base_uri": "https://localhost:8080/"
        },
        "id": "D5QUpMRK1LNp",
        "outputId": "2f0f1e3e-b588-4d9c-c1a0-e087093b0ab8"
      },
      "source": [
        "df.duplicated().sum() #check for duplicated data"
      ],
      "execution_count": 68,
      "outputs": [
        {
          "output_type": "execute_result",
          "data": {
            "text/plain": [
              "259"
            ]
          },
          "metadata": {},
          "execution_count": 68
        }
      ]
    },
    {
      "cell_type": "code",
      "metadata": {
        "colab": {
          "base_uri": "https://localhost:8080/"
        },
        "id": "AWLDHYW73SUp",
        "outputId": "a252a0d7-7130-4b0e-9c25-a1cbd0f5cfce"
      },
      "source": [
        "percent_duplicated = ((259/13119) * 100)\n",
        "print('Percentage of duplicated data:', percent_duplicated) #get the % of duplicated data in the dataset"
      ],
      "execution_count": 69,
      "outputs": [
        {
          "output_type": "stream",
          "name": "stdout",
          "text": [
            "Percentage of duplicated data: 1.9742358411464287\n"
          ]
        }
      ]
    },
    {
      "cell_type": "markdown",
      "metadata": {
        "id": "MyHCVd8q1mNX"
      },
      "source": [
        "Approximately 2% of the dataset is duplicated data. Since there are over 13,000 cars listed, and because there are many of the same models included, it is expected that there will be some values that are the same."
      ]
    },
    {
      "cell_type": "code",
      "metadata": {
        "colab": {
          "base_uri": "https://localhost:8080/"
        },
        "id": "zPZdTw0I1QDv",
        "outputId": "4ca6570b-3f9d-4004-b075-6b0c41bae3bf"
      },
      "source": [
        "df['model'].value_counts() #ensure that the categorical data correctly grouped"
      ],
      "execution_count": 70,
      "outputs": [
        {
          "output_type": "execute_result",
          "data": {
            "text/plain": [
              " C Class      3747\n",
              " A Class      2561\n",
              " E Class      1953\n",
              " GLC Class     960\n",
              " GLA Class     847\n",
              " B Class       591\n",
              " CL Class      511\n",
              " GLE Class     461\n",
              " SL CLASS      260\n",
              " CLS Class     237\n",
              " V Class       207\n",
              " S Class       197\n",
              " GL Class      121\n",
              " SLK            95\n",
              " CLA Class      86\n",
              " X-CLASS        82\n",
              " M Class        79\n",
              " GLS Class      74\n",
              " GLB Class      19\n",
              " G Class        15\n",
              " CLK             7\n",
              " CLC Class       3\n",
              " R Class         2\n",
              "220              1\n",
              "230              1\n",
              "180              1\n",
              "200              1\n",
              "Name: model, dtype: int64"
            ]
          },
          "metadata": {},
          "execution_count": 70
        }
      ]
    },
    {
      "cell_type": "code",
      "metadata": {
        "colab": {
          "base_uri": "https://localhost:8080/"
        },
        "id": "0sJZgBkw2E2O",
        "outputId": "36da20f5-b8d2-4f34-e601-cfce224541ec"
      },
      "source": [
        "df['transmission'].value_counts() #ensure that the categorical data correctly grouped"
      ],
      "execution_count": 71,
      "outputs": [
        {
          "output_type": "execute_result",
          "data": {
            "text/plain": [
              "Semi-Auto    6848\n",
              "Automatic    4825\n",
              "Manual       1444\n",
              "Other           2\n",
              "Name: transmission, dtype: int64"
            ]
          },
          "metadata": {},
          "execution_count": 71
        }
      ]
    },
    {
      "cell_type": "code",
      "metadata": {
        "colab": {
          "base_uri": "https://localhost:8080/"
        },
        "id": "ejjvh5rn4YWC",
        "outputId": "a1e2f9aa-c20d-461e-ac0e-8323a9ea04d3"
      },
      "source": [
        "df['fuelType'].value_counts() #ensure that the categorical data correctly grouped"
      ],
      "execution_count": 72,
      "outputs": [
        {
          "output_type": "execute_result",
          "data": {
            "text/plain": [
              "Diesel    9187\n",
              "Petrol    3752\n",
              "Hybrid     173\n",
              "Other        7\n",
              "Name: fuelType, dtype: int64"
            ]
          },
          "metadata": {},
          "execution_count": 72
        }
      ]
    },
    {
      "cell_type": "markdown",
      "metadata": {
        "id": "aXc2hrq53WKw"
      },
      "source": [
        "For an American audience, Euros are not a good metric for the price of Mercedez cars. This should be converted into USD for applicability."
      ]
    },
    {
      "cell_type": "code",
      "metadata": {
        "id": "t-zP8X-q3kiu"
      },
      "source": [
        "df['price'] = df['price'] * 1.17 #convert Euros to USD"
      ],
      "execution_count": 73,
      "outputs": []
    },
    {
      "cell_type": "markdown",
      "metadata": {
        "id": "SyX_BlLc1RaR"
      },
      "source": [
        "# Preprocessing for Machine Learning"
      ]
    },
    {
      "cell_type": "markdown",
      "metadata": {
        "id": "ar5GWgqu2u5Y"
      },
      "source": [
        "With the data cleaned, it is also necessary to preprocess the data so that it is ready for machine learning, such as encoding categorical data to numerical values or standardization when necessary."
      ]
    },
    {
      "cell_type": "code",
      "metadata": {
        "id": "doQks7UI46Qz"
      },
      "source": [
        "df = pd.get_dummies(df, columns=['fuelType',\n",
        "                                 'transmission',\n",
        "                                 'model']) #encode categorical data for machine learning"
      ],
      "execution_count": 74,
      "outputs": []
    },
    {
      "cell_type": "code",
      "metadata": {
        "id": "sEZyhOlnuIkG"
      },
      "source": [
        "from sklearn.model_selection import train_test_split #import train test split\n",
        "\n",
        "\n",
        "x = df.drop(columns=['price']) #create feature matrix without the target vector\n",
        "y = df['price'] #create target vector\n",
        "x_train, x_test, y_train, y_test = train_test_split(x,\n",
        "                                                    y,\n",
        "                                                    random_state=42,\n",
        "                                                    test_size=.3) #use train test splits to divide data into testing and training sets for machine learning"
      ],
      "execution_count": 75,
      "outputs": []
    },
    {
      "cell_type": "code",
      "metadata": {
        "colab": {
          "base_uri": "https://localhost:8080/",
          "height": 258
        },
        "id": "dYoviK0e-DtV",
        "outputId": "793e8653-1105-4a1d-9903-1d3f04d7c18a"
      },
      "source": [
        "df.head()"
      ],
      "execution_count": 87,
      "outputs": [
        {
          "output_type": "execute_result",
          "data": {
            "text/html": [
              "<div>\n",
              "<style scoped>\n",
              "    .dataframe tbody tr th:only-of-type {\n",
              "        vertical-align: middle;\n",
              "    }\n",
              "\n",
              "    .dataframe tbody tr th {\n",
              "        vertical-align: top;\n",
              "    }\n",
              "\n",
              "    .dataframe thead th {\n",
              "        text-align: right;\n",
              "    }\n",
              "</style>\n",
              "<table border=\"1\" class=\"dataframe\">\n",
              "  <thead>\n",
              "    <tr style=\"text-align: right;\">\n",
              "      <th></th>\n",
              "      <th>year</th>\n",
              "      <th>price</th>\n",
              "      <th>mileage</th>\n",
              "      <th>tax</th>\n",
              "      <th>mpg</th>\n",
              "      <th>engineSize</th>\n",
              "      <th>fuelType_Diesel</th>\n",
              "      <th>fuelType_Hybrid</th>\n",
              "      <th>fuelType_Other</th>\n",
              "      <th>fuelType_Petrol</th>\n",
              "      <th>transmission_Automatic</th>\n",
              "      <th>transmission_Manual</th>\n",
              "      <th>transmission_Other</th>\n",
              "      <th>transmission_Semi-Auto</th>\n",
              "      <th>model_ A Class</th>\n",
              "      <th>model_ B Class</th>\n",
              "      <th>model_ C Class</th>\n",
              "      <th>model_ CL Class</th>\n",
              "      <th>model_ CLA Class</th>\n",
              "      <th>model_ CLC Class</th>\n",
              "      <th>model_ CLK</th>\n",
              "      <th>model_ CLS Class</th>\n",
              "      <th>model_ E Class</th>\n",
              "      <th>model_ G Class</th>\n",
              "      <th>model_ GL Class</th>\n",
              "      <th>model_ GLA Class</th>\n",
              "      <th>model_ GLB Class</th>\n",
              "      <th>model_ GLC Class</th>\n",
              "      <th>model_ GLE Class</th>\n",
              "      <th>model_ GLS Class</th>\n",
              "      <th>model_ M Class</th>\n",
              "      <th>model_ R Class</th>\n",
              "      <th>model_ S Class</th>\n",
              "      <th>model_ SL CLASS</th>\n",
              "      <th>model_ SLK</th>\n",
              "      <th>model_ V Class</th>\n",
              "      <th>model_ X-CLASS</th>\n",
              "      <th>model_180</th>\n",
              "      <th>model_200</th>\n",
              "      <th>model_220</th>\n",
              "      <th>model_230</th>\n",
              "    </tr>\n",
              "  </thead>\n",
              "  <tbody>\n",
              "    <tr>\n",
              "      <th>0</th>\n",
              "      <td>2005</td>\n",
              "      <td>6084.00</td>\n",
              "      <td>63000</td>\n",
              "      <td>325</td>\n",
              "      <td>32.1</td>\n",
              "      <td>1.8</td>\n",
              "      <td>0</td>\n",
              "      <td>0</td>\n",
              "      <td>0</td>\n",
              "      <td>1</td>\n",
              "      <td>1</td>\n",
              "      <td>0</td>\n",
              "      <td>0</td>\n",
              "      <td>0</td>\n",
              "      <td>0</td>\n",
              "      <td>0</td>\n",
              "      <td>0</td>\n",
              "      <td>0</td>\n",
              "      <td>0</td>\n",
              "      <td>0</td>\n",
              "      <td>0</td>\n",
              "      <td>0</td>\n",
              "      <td>0</td>\n",
              "      <td>0</td>\n",
              "      <td>0</td>\n",
              "      <td>0</td>\n",
              "      <td>0</td>\n",
              "      <td>0</td>\n",
              "      <td>0</td>\n",
              "      <td>0</td>\n",
              "      <td>0</td>\n",
              "      <td>0</td>\n",
              "      <td>0</td>\n",
              "      <td>0</td>\n",
              "      <td>1</td>\n",
              "      <td>0</td>\n",
              "      <td>0</td>\n",
              "      <td>0</td>\n",
              "      <td>0</td>\n",
              "      <td>0</td>\n",
              "      <td>0</td>\n",
              "    </tr>\n",
              "    <tr>\n",
              "      <th>1</th>\n",
              "      <td>2017</td>\n",
              "      <td>40889.16</td>\n",
              "      <td>27000</td>\n",
              "      <td>20</td>\n",
              "      <td>61.4</td>\n",
              "      <td>2.1</td>\n",
              "      <td>0</td>\n",
              "      <td>1</td>\n",
              "      <td>0</td>\n",
              "      <td>0</td>\n",
              "      <td>1</td>\n",
              "      <td>0</td>\n",
              "      <td>0</td>\n",
              "      <td>0</td>\n",
              "      <td>0</td>\n",
              "      <td>0</td>\n",
              "      <td>0</td>\n",
              "      <td>0</td>\n",
              "      <td>0</td>\n",
              "      <td>0</td>\n",
              "      <td>0</td>\n",
              "      <td>0</td>\n",
              "      <td>0</td>\n",
              "      <td>0</td>\n",
              "      <td>0</td>\n",
              "      <td>0</td>\n",
              "      <td>0</td>\n",
              "      <td>0</td>\n",
              "      <td>0</td>\n",
              "      <td>0</td>\n",
              "      <td>0</td>\n",
              "      <td>0</td>\n",
              "      <td>1</td>\n",
              "      <td>0</td>\n",
              "      <td>0</td>\n",
              "      <td>0</td>\n",
              "      <td>0</td>\n",
              "      <td>0</td>\n",
              "      <td>0</td>\n",
              "      <td>0</td>\n",
              "      <td>0</td>\n",
              "    </tr>\n",
              "    <tr>\n",
              "      <th>2</th>\n",
              "      <td>2016</td>\n",
              "      <td>58439.16</td>\n",
              "      <td>6200</td>\n",
              "      <td>555</td>\n",
              "      <td>28.0</td>\n",
              "      <td>5.5</td>\n",
              "      <td>0</td>\n",
              "      <td>0</td>\n",
              "      <td>0</td>\n",
              "      <td>1</td>\n",
              "      <td>1</td>\n",
              "      <td>0</td>\n",
              "      <td>0</td>\n",
              "      <td>0</td>\n",
              "      <td>0</td>\n",
              "      <td>0</td>\n",
              "      <td>0</td>\n",
              "      <td>0</td>\n",
              "      <td>0</td>\n",
              "      <td>0</td>\n",
              "      <td>0</td>\n",
              "      <td>0</td>\n",
              "      <td>0</td>\n",
              "      <td>0</td>\n",
              "      <td>0</td>\n",
              "      <td>0</td>\n",
              "      <td>0</td>\n",
              "      <td>0</td>\n",
              "      <td>0</td>\n",
              "      <td>0</td>\n",
              "      <td>0</td>\n",
              "      <td>0</td>\n",
              "      <td>0</td>\n",
              "      <td>1</td>\n",
              "      <td>0</td>\n",
              "      <td>0</td>\n",
              "      <td>0</td>\n",
              "      <td>0</td>\n",
              "      <td>0</td>\n",
              "      <td>0</td>\n",
              "      <td>0</td>\n",
              "    </tr>\n",
              "    <tr>\n",
              "      <th>3</th>\n",
              "      <td>2016</td>\n",
              "      <td>72479.16</td>\n",
              "      <td>16000</td>\n",
              "      <td>325</td>\n",
              "      <td>30.4</td>\n",
              "      <td>4.0</td>\n",
              "      <td>0</td>\n",
              "      <td>0</td>\n",
              "      <td>0</td>\n",
              "      <td>1</td>\n",
              "      <td>1</td>\n",
              "      <td>0</td>\n",
              "      <td>0</td>\n",
              "      <td>0</td>\n",
              "      <td>0</td>\n",
              "      <td>0</td>\n",
              "      <td>0</td>\n",
              "      <td>0</td>\n",
              "      <td>0</td>\n",
              "      <td>0</td>\n",
              "      <td>0</td>\n",
              "      <td>0</td>\n",
              "      <td>0</td>\n",
              "      <td>1</td>\n",
              "      <td>0</td>\n",
              "      <td>0</td>\n",
              "      <td>0</td>\n",
              "      <td>0</td>\n",
              "      <td>0</td>\n",
              "      <td>0</td>\n",
              "      <td>0</td>\n",
              "      <td>0</td>\n",
              "      <td>0</td>\n",
              "      <td>0</td>\n",
              "      <td>0</td>\n",
              "      <td>0</td>\n",
              "      <td>0</td>\n",
              "      <td>0</td>\n",
              "      <td>0</td>\n",
              "      <td>0</td>\n",
              "      <td>0</td>\n",
              "    </tr>\n",
              "    <tr>\n",
              "      <th>4</th>\n",
              "      <td>2016</td>\n",
              "      <td>86519.16</td>\n",
              "      <td>4000</td>\n",
              "      <td>325</td>\n",
              "      <td>30.1</td>\n",
              "      <td>4.0</td>\n",
              "      <td>0</td>\n",
              "      <td>0</td>\n",
              "      <td>0</td>\n",
              "      <td>1</td>\n",
              "      <td>1</td>\n",
              "      <td>0</td>\n",
              "      <td>0</td>\n",
              "      <td>0</td>\n",
              "      <td>0</td>\n",
              "      <td>0</td>\n",
              "      <td>0</td>\n",
              "      <td>0</td>\n",
              "      <td>0</td>\n",
              "      <td>0</td>\n",
              "      <td>0</td>\n",
              "      <td>0</td>\n",
              "      <td>0</td>\n",
              "      <td>1</td>\n",
              "      <td>0</td>\n",
              "      <td>0</td>\n",
              "      <td>0</td>\n",
              "      <td>0</td>\n",
              "      <td>0</td>\n",
              "      <td>0</td>\n",
              "      <td>0</td>\n",
              "      <td>0</td>\n",
              "      <td>0</td>\n",
              "      <td>0</td>\n",
              "      <td>0</td>\n",
              "      <td>0</td>\n",
              "      <td>0</td>\n",
              "      <td>0</td>\n",
              "      <td>0</td>\n",
              "      <td>0</td>\n",
              "      <td>0</td>\n",
              "    </tr>\n",
              "  </tbody>\n",
              "</table>\n",
              "</div>"
            ],
            "text/plain": [
              "   year     price  mileage  tax  ...  model_180  model_200  model_220  model_230\n",
              "0  2005   6084.00    63000  325  ...          0          0          0          0\n",
              "1  2017  40889.16    27000   20  ...          0          0          0          0\n",
              "2  2016  58439.16     6200  555  ...          0          0          0          0\n",
              "3  2016  72479.16    16000  325  ...          0          0          0          0\n",
              "4  2016  86519.16     4000  325  ...          0          0          0          0\n",
              "\n",
              "[5 rows x 41 columns]"
            ]
          },
          "metadata": {},
          "execution_count": 87
        }
      ]
    },
    {
      "cell_type": "markdown",
      "metadata": {
        "id": "CaPF_Zds6gkq"
      },
      "source": [
        "# Machine Learning Models"
      ]
    },
    {
      "cell_type": "markdown",
      "metadata": {
        "id": "RjzqwZ1W6i2i"
      },
      "source": [
        "I use several top-performing machine learning models for regression and compare their accuracy: XGBoost, Random Forest, and "
      ]
    },
    {
      "cell_type": "code",
      "metadata": {
        "colab": {
          "base_uri": "https://localhost:8080/"
        },
        "id": "KV8hpL-q8mTi",
        "outputId": "378b1d48-7f3e-4b87-887e-31bc616fc234"
      },
      "source": [
        "from xgboost import XGBRegressor #import XGBoost\n",
        "from math import sqrt #import library for necessary calculations\n",
        "from sklearn.metrics import mean_squared_error #import mean squared error for evaluating machine learning performance\n",
        "\n",
        "XGB = XGBRegressor() \n",
        "XGB.fit(x_train, y_train) #create and fit default XGBoost model with training data\n",
        "XGB_predicted = XGB.predict(x_test) #generate predictions using testing data\n",
        "\n",
        "print('RMSE: ', str(sqrt(mean_squared_error(XGB_predicted, y_test)))) #valuate erroer using root mean squared error\n",
        "print('----------------------------------')\n",
        "print('Testing Score: ', str(XGB.score(x_test, y_test))) #core accuracy"
      ],
      "execution_count": 76,
      "outputs": [
        {
          "output_type": "stream",
          "name": "stdout",
          "text": [
            "[21:50:43] WARNING: /workspace/src/objective/regression_obj.cu:152: reg:linear is now deprecated in favor of reg:squarederror.\n",
            "RMSE:  3927.8965492592115\n",
            "----------------------------------\n",
            "Testing Score:  0.9274522575620282\n"
          ]
        }
      ]
    },
    {
      "cell_type": "code",
      "metadata": {
        "colab": {
          "base_uri": "https://localhost:8080/"
        },
        "id": "a4dm-mqWucB2",
        "outputId": "66906f8e-f916-4b76-f457-8d7e4f9fb5da"
      },
      "source": [
        "from sklearn.ensemble import RandomForestRegressor\n",
        "\n",
        "rf = RandomForestRegressor() \n",
        "rf.fit(x_train, y_train) #create and fit default Random Forest model with training data\n",
        "rf_predicted = rf.predict(x_test) #generate predictions with testing data\n",
        "\n",
        "print('RMSE: ' + str(sqrt(mean_squared_error(rf_predicted, y_test)))) #valuate erroer using root mean squared error\n",
        "print('---------------------------------')\n",
        "print('Testing Score: ' + str(rf.score(x_test, y_test))) #score accuracy"
      ],
      "execution_count": 77,
      "outputs": [
        {
          "output_type": "stream",
          "name": "stdout",
          "text": [
            "RMSE: 3285.9749767049348\n",
            "---------------------------------\n",
            "Testing Score: 0.9492270585706621\n"
          ]
        }
      ]
    },
    {
      "cell_type": "code",
      "metadata": {
        "colab": {
          "base_uri": "https://localhost:8080/"
        },
        "id": "sJUuB2mX6xfU",
        "outputId": "bbd6fdd8-e0bf-4748-b52d-ec1eb8cde3c9"
      },
      "source": [
        "from sklearn.ensemble import VotingRegressor #import ensemble model\n",
        "\n",
        "ensemble = VotingRegressor(estimators = [('Random Forest', rf),\n",
        "                                          ('XGBoost', XGB)]) #create ensemble model using Random Forest and XGBoost\n",
        "ensemble.fit(x_train, y_train) #fit with training data\n",
        "ensemble_predicted = ensemble.predict(x_test) #generate predictions using testing data\n",
        "\n",
        "print('RMSE: ' + str(sqrt(mean_squared_error(ensemble_predicted, y_test)))) #evaluate error using root mean squared error\n",
        "print('---------------------------------')\n",
        "print('Testing Score: ' + str(ensemble.score(x_test, y_test))) #score accuracy"
      ],
      "execution_count": 86,
      "outputs": [
        {
          "output_type": "stream",
          "name": "stdout",
          "text": [
            "[21:55:37] WARNING: /workspace/src/objective/regression_obj.cu:152: reg:linear is now deprecated in favor of reg:squarederror.\n",
            "RMSE: 3326.3066330383094\n",
            "---------------------------------\n",
            "Testing Score: 0.9479730479356447\n"
          ]
        }
      ]
    },
    {
      "cell_type": "markdown",
      "metadata": {
        "id": "-I8aOjLt9fO9"
      },
      "source": [
        "# Generate Prediction"
      ]
    },
    {
      "cell_type": "code",
      "metadata": {
        "colab": {
          "base_uri": "https://localhost:8080/",
          "height": 258
        },
        "id": "2aE2aAnjBO1U",
        "outputId": "e96046ef-60ba-496d-e496-45a677ecd989"
      },
      "source": [
        "x.head()"
      ],
      "execution_count": 94,
      "outputs": [
        {
          "output_type": "execute_result",
          "data": {
            "text/html": [
              "<div>\n",
              "<style scoped>\n",
              "    .dataframe tbody tr th:only-of-type {\n",
              "        vertical-align: middle;\n",
              "    }\n",
              "\n",
              "    .dataframe tbody tr th {\n",
              "        vertical-align: top;\n",
              "    }\n",
              "\n",
              "    .dataframe thead th {\n",
              "        text-align: right;\n",
              "    }\n",
              "</style>\n",
              "<table border=\"1\" class=\"dataframe\">\n",
              "  <thead>\n",
              "    <tr style=\"text-align: right;\">\n",
              "      <th></th>\n",
              "      <th>year</th>\n",
              "      <th>mileage</th>\n",
              "      <th>tax</th>\n",
              "      <th>mpg</th>\n",
              "      <th>engineSize</th>\n",
              "      <th>fuelType_Diesel</th>\n",
              "      <th>fuelType_Hybrid</th>\n",
              "      <th>fuelType_Other</th>\n",
              "      <th>fuelType_Petrol</th>\n",
              "      <th>transmission_Automatic</th>\n",
              "      <th>transmission_Manual</th>\n",
              "      <th>transmission_Other</th>\n",
              "      <th>transmission_Semi-Auto</th>\n",
              "      <th>model_ A Class</th>\n",
              "      <th>model_ B Class</th>\n",
              "      <th>model_ C Class</th>\n",
              "      <th>model_ CL Class</th>\n",
              "      <th>model_ CLA Class</th>\n",
              "      <th>model_ CLC Class</th>\n",
              "      <th>model_ CLK</th>\n",
              "      <th>model_ CLS Class</th>\n",
              "      <th>model_ E Class</th>\n",
              "      <th>model_ G Class</th>\n",
              "      <th>model_ GL Class</th>\n",
              "      <th>model_ GLA Class</th>\n",
              "      <th>model_ GLB Class</th>\n",
              "      <th>model_ GLC Class</th>\n",
              "      <th>model_ GLE Class</th>\n",
              "      <th>model_ GLS Class</th>\n",
              "      <th>model_ M Class</th>\n",
              "      <th>model_ R Class</th>\n",
              "      <th>model_ S Class</th>\n",
              "      <th>model_ SL CLASS</th>\n",
              "      <th>model_ SLK</th>\n",
              "      <th>model_ V Class</th>\n",
              "      <th>model_ X-CLASS</th>\n",
              "      <th>model_180</th>\n",
              "      <th>model_200</th>\n",
              "      <th>model_220</th>\n",
              "      <th>model_230</th>\n",
              "    </tr>\n",
              "  </thead>\n",
              "  <tbody>\n",
              "    <tr>\n",
              "      <th>0</th>\n",
              "      <td>2005</td>\n",
              "      <td>63000</td>\n",
              "      <td>325</td>\n",
              "      <td>32.1</td>\n",
              "      <td>1.8</td>\n",
              "      <td>0</td>\n",
              "      <td>0</td>\n",
              "      <td>0</td>\n",
              "      <td>1</td>\n",
              "      <td>1</td>\n",
              "      <td>0</td>\n",
              "      <td>0</td>\n",
              "      <td>0</td>\n",
              "      <td>0</td>\n",
              "      <td>0</td>\n",
              "      <td>0</td>\n",
              "      <td>0</td>\n",
              "      <td>0</td>\n",
              "      <td>0</td>\n",
              "      <td>0</td>\n",
              "      <td>0</td>\n",
              "      <td>0</td>\n",
              "      <td>0</td>\n",
              "      <td>0</td>\n",
              "      <td>0</td>\n",
              "      <td>0</td>\n",
              "      <td>0</td>\n",
              "      <td>0</td>\n",
              "      <td>0</td>\n",
              "      <td>0</td>\n",
              "      <td>0</td>\n",
              "      <td>0</td>\n",
              "      <td>0</td>\n",
              "      <td>1</td>\n",
              "      <td>0</td>\n",
              "      <td>0</td>\n",
              "      <td>0</td>\n",
              "      <td>0</td>\n",
              "      <td>0</td>\n",
              "      <td>0</td>\n",
              "    </tr>\n",
              "    <tr>\n",
              "      <th>1</th>\n",
              "      <td>2017</td>\n",
              "      <td>27000</td>\n",
              "      <td>20</td>\n",
              "      <td>61.4</td>\n",
              "      <td>2.1</td>\n",
              "      <td>0</td>\n",
              "      <td>1</td>\n",
              "      <td>0</td>\n",
              "      <td>0</td>\n",
              "      <td>1</td>\n",
              "      <td>0</td>\n",
              "      <td>0</td>\n",
              "      <td>0</td>\n",
              "      <td>0</td>\n",
              "      <td>0</td>\n",
              "      <td>0</td>\n",
              "      <td>0</td>\n",
              "      <td>0</td>\n",
              "      <td>0</td>\n",
              "      <td>0</td>\n",
              "      <td>0</td>\n",
              "      <td>0</td>\n",
              "      <td>0</td>\n",
              "      <td>0</td>\n",
              "      <td>0</td>\n",
              "      <td>0</td>\n",
              "      <td>0</td>\n",
              "      <td>0</td>\n",
              "      <td>0</td>\n",
              "      <td>0</td>\n",
              "      <td>0</td>\n",
              "      <td>1</td>\n",
              "      <td>0</td>\n",
              "      <td>0</td>\n",
              "      <td>0</td>\n",
              "      <td>0</td>\n",
              "      <td>0</td>\n",
              "      <td>0</td>\n",
              "      <td>0</td>\n",
              "      <td>0</td>\n",
              "    </tr>\n",
              "    <tr>\n",
              "      <th>2</th>\n",
              "      <td>2016</td>\n",
              "      <td>6200</td>\n",
              "      <td>555</td>\n",
              "      <td>28.0</td>\n",
              "      <td>5.5</td>\n",
              "      <td>0</td>\n",
              "      <td>0</td>\n",
              "      <td>0</td>\n",
              "      <td>1</td>\n",
              "      <td>1</td>\n",
              "      <td>0</td>\n",
              "      <td>0</td>\n",
              "      <td>0</td>\n",
              "      <td>0</td>\n",
              "      <td>0</td>\n",
              "      <td>0</td>\n",
              "      <td>0</td>\n",
              "      <td>0</td>\n",
              "      <td>0</td>\n",
              "      <td>0</td>\n",
              "      <td>0</td>\n",
              "      <td>0</td>\n",
              "      <td>0</td>\n",
              "      <td>0</td>\n",
              "      <td>0</td>\n",
              "      <td>0</td>\n",
              "      <td>0</td>\n",
              "      <td>0</td>\n",
              "      <td>0</td>\n",
              "      <td>0</td>\n",
              "      <td>0</td>\n",
              "      <td>0</td>\n",
              "      <td>1</td>\n",
              "      <td>0</td>\n",
              "      <td>0</td>\n",
              "      <td>0</td>\n",
              "      <td>0</td>\n",
              "      <td>0</td>\n",
              "      <td>0</td>\n",
              "      <td>0</td>\n",
              "    </tr>\n",
              "    <tr>\n",
              "      <th>3</th>\n",
              "      <td>2016</td>\n",
              "      <td>16000</td>\n",
              "      <td>325</td>\n",
              "      <td>30.4</td>\n",
              "      <td>4.0</td>\n",
              "      <td>0</td>\n",
              "      <td>0</td>\n",
              "      <td>0</td>\n",
              "      <td>1</td>\n",
              "      <td>1</td>\n",
              "      <td>0</td>\n",
              "      <td>0</td>\n",
              "      <td>0</td>\n",
              "      <td>0</td>\n",
              "      <td>0</td>\n",
              "      <td>0</td>\n",
              "      <td>0</td>\n",
              "      <td>0</td>\n",
              "      <td>0</td>\n",
              "      <td>0</td>\n",
              "      <td>0</td>\n",
              "      <td>0</td>\n",
              "      <td>1</td>\n",
              "      <td>0</td>\n",
              "      <td>0</td>\n",
              "      <td>0</td>\n",
              "      <td>0</td>\n",
              "      <td>0</td>\n",
              "      <td>0</td>\n",
              "      <td>0</td>\n",
              "      <td>0</td>\n",
              "      <td>0</td>\n",
              "      <td>0</td>\n",
              "      <td>0</td>\n",
              "      <td>0</td>\n",
              "      <td>0</td>\n",
              "      <td>0</td>\n",
              "      <td>0</td>\n",
              "      <td>0</td>\n",
              "      <td>0</td>\n",
              "    </tr>\n",
              "    <tr>\n",
              "      <th>4</th>\n",
              "      <td>2016</td>\n",
              "      <td>4000</td>\n",
              "      <td>325</td>\n",
              "      <td>30.1</td>\n",
              "      <td>4.0</td>\n",
              "      <td>0</td>\n",
              "      <td>0</td>\n",
              "      <td>0</td>\n",
              "      <td>1</td>\n",
              "      <td>1</td>\n",
              "      <td>0</td>\n",
              "      <td>0</td>\n",
              "      <td>0</td>\n",
              "      <td>0</td>\n",
              "      <td>0</td>\n",
              "      <td>0</td>\n",
              "      <td>0</td>\n",
              "      <td>0</td>\n",
              "      <td>0</td>\n",
              "      <td>0</td>\n",
              "      <td>0</td>\n",
              "      <td>0</td>\n",
              "      <td>1</td>\n",
              "      <td>0</td>\n",
              "      <td>0</td>\n",
              "      <td>0</td>\n",
              "      <td>0</td>\n",
              "      <td>0</td>\n",
              "      <td>0</td>\n",
              "      <td>0</td>\n",
              "      <td>0</td>\n",
              "      <td>0</td>\n",
              "      <td>0</td>\n",
              "      <td>0</td>\n",
              "      <td>0</td>\n",
              "      <td>0</td>\n",
              "      <td>0</td>\n",
              "      <td>0</td>\n",
              "      <td>0</td>\n",
              "      <td>0</td>\n",
              "    </tr>\n",
              "  </tbody>\n",
              "</table>\n",
              "</div>"
            ],
            "text/plain": [
              "   year  mileage  tax   mpg  ...  model_180  model_200  model_220  model_230\n",
              "0  2005    63000  325  32.1  ...          0          0          0          0\n",
              "1  2017    27000   20  61.4  ...          0          0          0          0\n",
              "2  2016     6200  555  28.0  ...          0          0          0          0\n",
              "3  2016    16000  325  30.4  ...          0          0          0          0\n",
              "4  2016     4000  325  30.1  ...          0          0          0          0\n",
              "\n",
              "[5 rows x 40 columns]"
            ]
          },
          "metadata": {},
          "execution_count": 94
        }
      ]
    },
    {
      "cell_type": "code",
      "metadata": {
        "id": "kaNSOq7EBPeO"
      },
      "source": [
        ""
      ],
      "execution_count": null,
      "outputs": []
    }
  ]
}