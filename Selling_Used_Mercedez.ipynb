{
  "nbformat": 4,
  "nbformat_minor": 0,
  "metadata": {
    "colab": {
      "name": "Selling_Used_Mercedez.ipynb",
      "provenance": [],
      "authorship_tag": "ABX9TyPGB3M9Lk/WA9VCqfwKd/jN",
      "include_colab_link": true
    },
    "kernelspec": {
      "name": "python3",
      "display_name": "Python 3"
    },
    "language_info": {
      "name": "python"
    }
  },
  "cells": [
    {
      "cell_type": "markdown",
      "metadata": {
        "id": "view-in-github",
        "colab_type": "text"
      },
      "source": [
        "<a href=\"https://colab.research.google.com/github/yanezdavid/Selling-Used-Mercedez/blob/main/Selling_Used_Mercedez.ipynb\" target=\"_parent\"><img src=\"https://colab.research.google.com/assets/colab-badge.svg\" alt=\"Open In Colab\"/></a>"
      ]
    },
    {
      "cell_type": "markdown",
      "metadata": {
        "id": "nQKeptIZzO9K"
      },
      "source": [
        "# Research Question"
      ]
    },
    {
      "cell_type": "markdown",
      "metadata": {
        "id": "TCH8qm4YzWCZ"
      },
      "source": [
        "**How much should I sell my used Mercedes for?**\n",
        "\n",
        "What is a fair price to sell my Mercedes for on online marketplaces? Using specifications from previously sold Mercedes on online marketplaces, I use develop several machine learning models to predict an optimal price to sell my car for. Data was recieved from [Kaggle](https://www.kaggle.com/mysarahmadbhat/mercedes-used-car-listing.\n",
        "\n"
      ]
    },
    {
      "cell_type": "code",
      "metadata": {
        "colab": {
          "base_uri": "https://localhost:8080/",
          "height": 221
        },
        "id": "OxSyKz0RxSO6",
        "outputId": "512e4d23-eb41-4878-92ff-7a1f0aaf1806"
      },
      "source": [
        "from google.colab import drive #link drive\n",
        "drive.mount('/content/drive')\n",
        "\n",
        "import pandas as pd #import libraries\n",
        "import numpy as np\n",
        "\n",
        "df = pd.read_csv('/content/drive/MyDrive/Data Science/Projects/merc 2.csv') #load dataframe\n",
        "df.head() #preview data"
      ],
      "execution_count": 98,
      "outputs": [
        {
          "output_type": "stream",
          "name": "stdout",
          "text": [
            "Drive already mounted at /content/drive; to attempt to forcibly remount, call drive.mount(\"/content/drive\", force_remount=True).\n"
          ]
        },
        {
          "output_type": "execute_result",
          "data": {
            "text/html": [
              "<div>\n",
              "<style scoped>\n",
              "    .dataframe tbody tr th:only-of-type {\n",
              "        vertical-align: middle;\n",
              "    }\n",
              "\n",
              "    .dataframe tbody tr th {\n",
              "        vertical-align: top;\n",
              "    }\n",
              "\n",
              "    .dataframe thead th {\n",
              "        text-align: right;\n",
              "    }\n",
              "</style>\n",
              "<table border=\"1\" class=\"dataframe\">\n",
              "  <thead>\n",
              "    <tr style=\"text-align: right;\">\n",
              "      <th></th>\n",
              "      <th>model</th>\n",
              "      <th>year</th>\n",
              "      <th>price</th>\n",
              "      <th>transmission</th>\n",
              "      <th>mileage</th>\n",
              "      <th>fuelType</th>\n",
              "      <th>tax</th>\n",
              "      <th>mpg</th>\n",
              "      <th>engineSize</th>\n",
              "    </tr>\n",
              "  </thead>\n",
              "  <tbody>\n",
              "    <tr>\n",
              "      <th>0</th>\n",
              "      <td>SLK</td>\n",
              "      <td>2005</td>\n",
              "      <td>5200</td>\n",
              "      <td>Automatic</td>\n",
              "      <td>63000</td>\n",
              "      <td>Petrol</td>\n",
              "      <td>325</td>\n",
              "      <td>32.1</td>\n",
              "      <td>1.8</td>\n",
              "    </tr>\n",
              "    <tr>\n",
              "      <th>1</th>\n",
              "      <td>S Class</td>\n",
              "      <td>2017</td>\n",
              "      <td>34948</td>\n",
              "      <td>Automatic</td>\n",
              "      <td>27000</td>\n",
              "      <td>Hybrid</td>\n",
              "      <td>20</td>\n",
              "      <td>61.4</td>\n",
              "      <td>2.1</td>\n",
              "    </tr>\n",
              "    <tr>\n",
              "      <th>2</th>\n",
              "      <td>SL CLASS</td>\n",
              "      <td>2016</td>\n",
              "      <td>49948</td>\n",
              "      <td>Automatic</td>\n",
              "      <td>6200</td>\n",
              "      <td>Petrol</td>\n",
              "      <td>555</td>\n",
              "      <td>28.0</td>\n",
              "      <td>5.5</td>\n",
              "    </tr>\n",
              "    <tr>\n",
              "      <th>3</th>\n",
              "      <td>G Class</td>\n",
              "      <td>2016</td>\n",
              "      <td>61948</td>\n",
              "      <td>Automatic</td>\n",
              "      <td>16000</td>\n",
              "      <td>Petrol</td>\n",
              "      <td>325</td>\n",
              "      <td>30.4</td>\n",
              "      <td>4.0</td>\n",
              "    </tr>\n",
              "    <tr>\n",
              "      <th>4</th>\n",
              "      <td>G Class</td>\n",
              "      <td>2016</td>\n",
              "      <td>73948</td>\n",
              "      <td>Automatic</td>\n",
              "      <td>4000</td>\n",
              "      <td>Petrol</td>\n",
              "      <td>325</td>\n",
              "      <td>30.1</td>\n",
              "      <td>4.0</td>\n",
              "    </tr>\n",
              "  </tbody>\n",
              "</table>\n",
              "</div>"
            ],
            "text/plain": [
              "       model  year  price transmission  mileage fuelType  tax   mpg  engineSize\n",
              "0        SLK  2005   5200    Automatic    63000   Petrol  325  32.1         1.8\n",
              "1    S Class  2017  34948    Automatic    27000   Hybrid   20  61.4         2.1\n",
              "2   SL CLASS  2016  49948    Automatic     6200   Petrol  555  28.0         5.5\n",
              "3    G Class  2016  61948    Automatic    16000   Petrol  325  30.4         4.0\n",
              "4    G Class  2016  73948    Automatic     4000   Petrol  325  30.1         4.0"
            ]
          },
          "metadata": {},
          "execution_count": 98
        }
      ]
    },
    {
      "cell_type": "markdown",
      "metadata": {
        "id": "5gko9z4q2DqC"
      },
      "source": [
        "# Data Dictionary"
      ]
    },
    {
      "cell_type": "markdown",
      "metadata": {
        "id": "taKJkkXi2FoL"
      },
      "source": [
        "First, some information about the data.\n",
        "* model:  Mercedez model.\n",
        "* year: registraion year.\n",
        "* price: price in Euros.\n",
        "* transmission: type of gear box.\n",
        "* mileage: distance used.\n",
        "* fuelType: engine fuel.\n",
        "* tax: road tax.\n",
        "* mpg: miles per galoon.\n",
        "* engineSize: size in litres.\n"
      ]
    },
    {
      "cell_type": "markdown",
      "metadata": {
        "id": "jZkWKOLP2Sgx"
      },
      "source": [
        "# Clean Data"
      ]
    },
    {
      "cell_type": "markdown",
      "metadata": {
        "id": "2Sww7B2-2Vl3"
      },
      "source": [
        "Before the data is ready machine learning it is necessary to check for errors, missing values, and other irregularities."
      ]
    },
    {
      "cell_type": "code",
      "metadata": {
        "colab": {
          "base_uri": "https://localhost:8080/"
        },
        "id": "LpWk7mxR1VXh",
        "outputId": "e8836492-43b8-4e0f-9fa0-9b2f921a9ce4"
      },
      "source": [
        "df.info() #check for incorrect datatypes"
      ],
      "execution_count": 99,
      "outputs": [
        {
          "output_type": "stream",
          "name": "stdout",
          "text": [
            "<class 'pandas.core.frame.DataFrame'>\n",
            "RangeIndex: 13119 entries, 0 to 13118\n",
            "Data columns (total 9 columns):\n",
            " #   Column        Non-Null Count  Dtype  \n",
            "---  ------        --------------  -----  \n",
            " 0   model         13119 non-null  object \n",
            " 1   year          13119 non-null  int64  \n",
            " 2   price         13119 non-null  int64  \n",
            " 3   transmission  13119 non-null  object \n",
            " 4   mileage       13119 non-null  int64  \n",
            " 5   fuelType      13119 non-null  object \n",
            " 6   tax           13119 non-null  int64  \n",
            " 7   mpg           13119 non-null  float64\n",
            " 8   engineSize    13119 non-null  float64\n",
            "dtypes: float64(2), int64(4), object(3)\n",
            "memory usage: 922.6+ KB\n"
          ]
        }
      ]
    },
    {
      "cell_type": "code",
      "metadata": {
        "colab": {
          "base_uri": "https://localhost:8080/"
        },
        "id": "td9yfUy61grQ",
        "outputId": "3d454958-c7eb-4bf5-f2d5-f3a72bdd5bb8"
      },
      "source": [
        "df.shape #check the number of rows and columns in the dataframe"
      ],
      "execution_count": 100,
      "outputs": [
        {
          "output_type": "execute_result",
          "data": {
            "text/plain": [
              "(13119, 9)"
            ]
          },
          "metadata": {},
          "execution_count": 100
        }
      ]
    },
    {
      "cell_type": "code",
      "metadata": {
        "colab": {
          "base_uri": "https://localhost:8080/"
        },
        "id": "fqDoZqcjymy5",
        "outputId": "24134ea6-3a88-4bc7-e225-bb8209aed2a4"
      },
      "source": [
        "df.isnull().sum() #check for missing data in all columns"
      ],
      "execution_count": 101,
      "outputs": [
        {
          "output_type": "execute_result",
          "data": {
            "text/plain": [
              "model           0\n",
              "year            0\n",
              "price           0\n",
              "transmission    0\n",
              "mileage         0\n",
              "fuelType        0\n",
              "tax             0\n",
              "mpg             0\n",
              "engineSize      0\n",
              "dtype: int64"
            ]
          },
          "metadata": {},
          "execution_count": 101
        }
      ]
    },
    {
      "cell_type": "code",
      "metadata": {
        "colab": {
          "base_uri": "https://localhost:8080/"
        },
        "id": "D5QUpMRK1LNp",
        "outputId": "8d2968ed-1ebd-43bb-c182-0d34edbfc6c0"
      },
      "source": [
        "df.duplicated().sum() #check for duplicated data"
      ],
      "execution_count": 102,
      "outputs": [
        {
          "output_type": "execute_result",
          "data": {
            "text/plain": [
              "259"
            ]
          },
          "metadata": {},
          "execution_count": 102
        }
      ]
    },
    {
      "cell_type": "code",
      "metadata": {
        "colab": {
          "base_uri": "https://localhost:8080/"
        },
        "id": "AWLDHYW73SUp",
        "outputId": "2c307886-2c28-41ec-d77b-608ec3c76b23"
      },
      "source": [
        "percent_duplicated = ((259/13119) * 100)\n",
        "print('Percentage of duplicated data:', percent_duplicated) #get the % of duplicated data in the dataset"
      ],
      "execution_count": 103,
      "outputs": [
        {
          "output_type": "stream",
          "name": "stdout",
          "text": [
            "Percentage of duplicated data: 1.9742358411464287\n"
          ]
        }
      ]
    },
    {
      "cell_type": "markdown",
      "metadata": {
        "id": "MyHCVd8q1mNX"
      },
      "source": [
        "Approximately 2% of the dataset is duplicated data. Since there are over 13,000 cars listed, and because there are many of the same models included, it is expected that there will be some values that are the same."
      ]
    },
    {
      "cell_type": "code",
      "metadata": {
        "colab": {
          "base_uri": "https://localhost:8080/"
        },
        "id": "zPZdTw0I1QDv",
        "outputId": "781d16ff-0346-4408-f90e-1e7e0a12691a"
      },
      "source": [
        "df['model'].value_counts() #check that the categorical data is without errors"
      ],
      "execution_count": 104,
      "outputs": [
        {
          "output_type": "execute_result",
          "data": {
            "text/plain": [
              " C Class      3747\n",
              " A Class      2561\n",
              " E Class      1953\n",
              " GLC Class     960\n",
              " GLA Class     847\n",
              " B Class       591\n",
              " CL Class      511\n",
              " GLE Class     461\n",
              " SL CLASS      260\n",
              " CLS Class     237\n",
              " V Class       207\n",
              " S Class       197\n",
              " GL Class      121\n",
              " SLK            95\n",
              " CLA Class      86\n",
              " X-CLASS        82\n",
              " M Class        79\n",
              " GLS Class      74\n",
              " GLB Class      19\n",
              " G Class        15\n",
              " CLK             7\n",
              " CLC Class       3\n",
              " R Class         2\n",
              "220              1\n",
              "230              1\n",
              "180              1\n",
              "200              1\n",
              "Name: model, dtype: int64"
            ]
          },
          "metadata": {},
          "execution_count": 104
        }
      ]
    },
    {
      "cell_type": "code",
      "metadata": {
        "colab": {
          "base_uri": "https://localhost:8080/"
        },
        "id": "0sJZgBkw2E2O",
        "outputId": "0066e8c5-7f2b-491f-b675-300d130edeeb"
      },
      "source": [
        "df['transmission'].value_counts() #check that the categorical data is without errors"
      ],
      "execution_count": 105,
      "outputs": [
        {
          "output_type": "execute_result",
          "data": {
            "text/plain": [
              "Semi-Auto    6848\n",
              "Automatic    4825\n",
              "Manual       1444\n",
              "Other           2\n",
              "Name: transmission, dtype: int64"
            ]
          },
          "metadata": {},
          "execution_count": 105
        }
      ]
    },
    {
      "cell_type": "code",
      "metadata": {
        "colab": {
          "base_uri": "https://localhost:8080/"
        },
        "id": "ejjvh5rn4YWC",
        "outputId": "118772e2-faf4-4943-e45e-de1d08165cca"
      },
      "source": [
        "df['fuelType'].value_counts() #check that the categorical data is without errors"
      ],
      "execution_count": 106,
      "outputs": [
        {
          "output_type": "execute_result",
          "data": {
            "text/plain": [
              "Diesel    9187\n",
              "Petrol    3752\n",
              "Hybrid     173\n",
              "Other        7\n",
              "Name: fuelType, dtype: int64"
            ]
          },
          "metadata": {},
          "execution_count": 106
        }
      ]
    },
    {
      "cell_type": "markdown",
      "metadata": {
        "id": "aXc2hrq53WKw"
      },
      "source": [
        "For an American audience, Euros are not a good metric for the price of Mercedez cars. This should be converted into USD for applicability."
      ]
    },
    {
      "cell_type": "code",
      "metadata": {
        "id": "t-zP8X-q3kiu"
      },
      "source": [
        "df['price'] = df['price'] * 1.17 #convert Euros to USD"
      ],
      "execution_count": 107,
      "outputs": []
    },
    {
      "cell_type": "markdown",
      "metadata": {
        "id": "SyX_BlLc1RaR"
      },
      "source": [
        "# Preprocessing for Machine Learning"
      ]
    },
    {
      "cell_type": "markdown",
      "metadata": {
        "id": "ar5GWgqu2u5Y"
      },
      "source": [
        "With the data cleaned, it is also necessary to preprocess the data so that it is ready for machine learning, such as encoding categorical data to numerical values or standardization when necessary."
      ]
    },
    {
      "cell_type": "code",
      "metadata": {
        "id": "doQks7UI46Qz"
      },
      "source": [
        "df = pd.get_dummies(df, columns=['fuelType',\n",
        "                                 'transmission',\n",
        "                                 'model']) #encode categorical data into numerical values for machine learning"
      ],
      "execution_count": 108,
      "outputs": []
    },
    {
      "cell_type": "code",
      "metadata": {
        "id": "sEZyhOlnuIkG"
      },
      "source": [
        "from sklearn.model_selection import train_test_split #import train test split\n",
        "\n",
        "x = df.drop(columns=['price']) #create feature matrix\n",
        "y = df['price'] #create target vector\n",
        "x_train, x_test, y_train, y_test = train_test_split(x,\n",
        "                                                    y,\n",
        "                                                    random_state=42,\n",
        "                                                    test_size=.3) #split data into training and testing sets for machine learning"
      ],
      "execution_count": 109,
      "outputs": []
    },
    {
      "cell_type": "markdown",
      "metadata": {
        "id": "CaPF_Zds6gkq"
      },
      "source": [
        "# Machine Learning Models"
      ]
    },
    {
      "cell_type": "markdown",
      "metadata": {
        "id": "RjzqwZ1W6i2i"
      },
      "source": [
        "I use several top-performing machine learning models for regression and compare their accuracy: XGBoost, Random Forest, and Ensemble"
      ]
    },
    {
      "cell_type": "code",
      "metadata": {
        "colab": {
          "base_uri": "https://localhost:8080/"
        },
        "id": "KV8hpL-q8mTi",
        "outputId": "0860a5cf-ccfc-4992-866e-44a7ae9023b1"
      },
      "source": [
        "from xgboost import XGBRegressor #import XGBoost\n",
        "from math import sqrt #import square root from math\n",
        "from sklearn.metrics import mean_squared_error #import mean squared error for evaluating error\n",
        "\n",
        "XGB = XGBRegressor() \n",
        "XGB.fit(x_train, y_train) #create and fit default XGBoost model with training data\n",
        "XGB_predicted = XGB.predict(x_test) #generate predictions using testing data\n",
        "\n",
        "print('RMSE: ', str(sqrt(mean_squared_error(XGB_predicted, y_test)))) #valuate erroer using root mean squared error\n",
        "print('----------------------------------')\n",
        "print('Testing Score: ', str(XGB.score(x_test, y_test))) #core accuracy"
      ],
      "execution_count": 111,
      "outputs": [
        {
          "output_type": "stream",
          "name": "stdout",
          "text": [
            "[22:29:29] WARNING: /workspace/src/objective/regression_obj.cu:152: reg:linear is now deprecated in favor of reg:squarederror.\n",
            "RMSE:  3927.8965492592115\n",
            "----------------------------------\n",
            "Testing Score:  0.9274522575620282\n"
          ]
        }
      ]
    },
    {
      "cell_type": "code",
      "metadata": {
        "colab": {
          "base_uri": "https://localhost:8080/"
        },
        "id": "a4dm-mqWucB2",
        "outputId": "6c0d031b-15f2-4d3c-ae20-01af5ead47b7"
      },
      "source": [
        "from sklearn.ensemble import RandomForestRegressor #import Random Forest\n",
        "\n",
        "rf = RandomForestRegressor() \n",
        "rf.fit(x_train, y_train) #create and fit default Random Forest model with training data\n",
        "rf_predicted = rf.predict(x_test) #generate predictions with testing data\n",
        "\n",
        "print('RMSE: ' + str(sqrt(mean_squared_error(rf_predicted, y_test)))) #valuate error using root mean squared error\n",
        "print('---------------------------------')\n",
        "print('Testing Score: ' + str(rf.score(x_test, y_test))) #score accuracy"
      ],
      "execution_count": 112,
      "outputs": [
        {
          "output_type": "stream",
          "name": "stdout",
          "text": [
            "RMSE: 3314.002786263116\n",
            "---------------------------------\n",
            "Testing Score: 0.9483572264308503\n"
          ]
        }
      ]
    },
    {
      "cell_type": "code",
      "metadata": {
        "colab": {
          "base_uri": "https://localhost:8080/"
        },
        "id": "sJUuB2mX6xfU",
        "outputId": "4bb4e9e2-d2f1-4421-c4b1-94620fbd9df7"
      },
      "source": [
        "from sklearn.ensemble import VotingRegressor #import ensemble model\n",
        "\n",
        "ensemble = VotingRegressor(estimators = [('Random Forest', rf),\n",
        "                                          ('XGBoost', XGB)]) #create ensemble model using Random Forest and XGBoost\n",
        "ensemble.fit(x_train, y_train) #fit with training data\n",
        "ensemble_predicted = ensemble.predict(x_test) #generate predictions using testing data\n",
        "\n",
        "print('RMSE: ' + str(sqrt(mean_squared_error(ensemble_predicted, y_test)))) #evaluate error using root mean squared error\n",
        "print('---------------------------------')\n",
        "print('Testing Score: ' + str(ensemble.score(x_test, y_test))) #score accuracy"
      ],
      "execution_count": 113,
      "outputs": [
        {
          "output_type": "stream",
          "name": "stdout",
          "text": [
            "[22:29:38] WARNING: /workspace/src/objective/regression_obj.cu:152: reg:linear is now deprecated in favor of reg:squarederror.\n",
            "RMSE: 3304.6046774970077\n",
            "---------------------------------\n",
            "Testing Score: 0.9486497163564183\n"
          ]
        }
      ]
    },
    {
      "cell_type": "markdown",
      "metadata": {
        "id": "-I8aOjLt9fO9"
      },
      "source": [
        "# Generate Prediction"
      ]
    },
    {
      "cell_type": "markdown",
      "metadata": {
        "id": "UP0Y6R41HXB0"
      },
      "source": [
        "The ensemble model had the smallest error and highest accuracy. I will use it to predict "
      ]
    },
    {
      "cell_type": "code",
      "metadata": {
        "id": "kaNSOq7EBPeO"
      },
      "source": [
        "price_predictions = ensemble.predict(x_test.head(1)) #generate prediction using car of interest\n",
        "price_predictions_df = pd.DataFrame(price_predictions) #transform prediction into a dataframe\n",
        "price_predictions_df.to_csv('price_predictions', index=False) #transform dataframe into a csv file"
      ],
      "execution_count": 133,
      "outputs": []
    },
    {
      "cell_type": "code",
      "metadata": {
        "colab": {
          "base_uri": "https://localhost:8080/",
          "height": 80
        },
        "id": "dVrt1WKhE5LD",
        "outputId": "e83a1fcb-ae5e-4620-e9e4-9d759673a749"
      },
      "source": [
        "price_predictions_df"
      ],
      "execution_count": 134,
      "outputs": [
        {
          "output_type": "execute_result",
          "data": {
            "text/html": [
              "<div>\n",
              "<style scoped>\n",
              "    .dataframe tbody tr th:only-of-type {\n",
              "        vertical-align: middle;\n",
              "    }\n",
              "\n",
              "    .dataframe tbody tr th {\n",
              "        vertical-align: top;\n",
              "    }\n",
              "\n",
              "    .dataframe thead th {\n",
              "        text-align: right;\n",
              "    }\n",
              "</style>\n",
              "<table border=\"1\" class=\"dataframe\">\n",
              "  <thead>\n",
              "    <tr style=\"text-align: right;\">\n",
              "      <th></th>\n",
              "      <th>0</th>\n",
              "    </tr>\n",
              "  </thead>\n",
              "  <tbody>\n",
              "    <tr>\n",
              "      <th>0</th>\n",
              "      <td>27812.739753</td>\n",
              "    </tr>\n",
              "  </tbody>\n",
              "</table>\n",
              "</div>"
            ],
            "text/plain": [
              "              0\n",
              "0  27812.739753"
            ]
          },
          "metadata": {},
          "execution_count": 134
        }
      ]
    },
    {
      "cell_type": "markdown",
      "metadata": {
        "id": "n8QqGFDMBDHl"
      },
      "source": [
        "I should sell my car for approximately $27,812."
      ]
    }
  ]
}